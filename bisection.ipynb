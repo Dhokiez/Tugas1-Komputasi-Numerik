{
  "nbformat": 4,
  "nbformat_minor": 0,
  "metadata": {
    "colab": {
      "provenance": [],
      "include_colab_link": true
    },
    "kernelspec": {
      "name": "python3",
      "display_name": "Python 3"
    },
    "language_info": {
      "name": "python"
    }
  },
  "cells": [
    {
      "cell_type": "markdown",
      "metadata": {
        "id": "view-in-github",
        "colab_type": "text"
      },
      "source": [
        "<a href=\"https://colab.research.google.com/github/Dhokiez/Tugas1-Komputasi-Numerik/blob/main/bisection.ipynb\" target=\"_parent\"><img src=\"https://colab.research.google.com/assets/colab-badge.svg\" alt=\"Open In Colab\"/></a>"
      ]
    },
    {
      "cell_type": "code",
      "execution_count": null,
      "metadata": {
        "id": "2JHVHadOtZcL"
      },
      "outputs": [],
      "source": [
        "# Mengimpor library numpy untuk operasi numerik\n",
        "import numpy as np"
      ]
    },
    {
      "cell_type": "code",
      "source": [
        "# Fungsi bisection untuk mencari akar suatu fungsi dalam interval tertentu\n",
        "def bisection(f, a, b, tol):\n",
        "    # Memeriksa apakah fungsi memiliki tanda yang sama pada kedua batas\n",
        "    if np.sign(f(a)) == np.sign(f(b)):\n",
        "        # Jika ya, dilemparkan pengecualian karena metode bisection tidak dapat diterapkan\n",
        "        raise Exception(\"tidak bisa\")\n",
        "\n",
        "    # Menghitung titik tengah dari interval\n",
        "    m = (a + b)/2\n",
        "\n",
        "    # Jika nilai fungsi di titik tengah kurang dari toleransi, kembalikan titik tengah sebagai akar\n",
        "    if np.abs(f(m)) < tol:\n",
        "        return m\n",
        "    # Jika tanda fungsi sama dengan batas bawah, perbarui interval ke [m, b]\n",
        "    elif np.sign(f(a)) == np.sign(f(m)):\n",
        "        return bisection(f, m, b, tol)\n",
        "    # Jika tanda fungsi sama dengan batas atas, perbarui interval ke [a, m]\n",
        "    elif np.sign(f(b)) == np.sign(f(m)):\n",
        "        return bisection(f, a, m, tol)"
      ],
      "metadata": {
        "id": "5_LhaSoZurtu"
      },
      "execution_count": null,
      "outputs": []
    },
    {
      "cell_type": "code",
      "source": [
        "# Mendefinisikan fungsi f(x) = x^2 - 2\n",
        "f = lambda x: x**2 - 2\n",
        "\n",
        "# Mencari akar fungsi f dalam interval [0, 2] dengan toleransi 0.1\n",
        "r1 = bisection(f, 0, 2, 0.1)\n",
        "print(\"r1 =\", r1)  # Menampilkan akar dengan toleransi 0.1\n",
        "\n",
        "# Mencari akar fungsi f dalam interval [0, 2] dengan toleransi 0.01\n",
        "r01 = bisection(f, 0, 2, 0.01)\n",
        "print(\"r01 =\", r01)  # Menampilkan akar dengan toleransi 0.01\n",
        "\n",
        "# Menampilkan nilai fungsi di akar yang ditemukan\n",
        "print(\"f(r1) =\", f(r1))\n",
        "print(\"f(r01) =\", f(r01))"
      ],
      "metadata": {
        "id": "ncQT2IKYvNBk"
      },
      "execution_count": null,
      "outputs": []
    }
  ]
}