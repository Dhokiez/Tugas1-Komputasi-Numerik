{
  "nbformat": 4,
  "nbformat_minor": 0,
  "metadata": {
    "colab": {
      "provenance": [],
      "include_colab_link": true
    },
    "kernelspec": {
      "name": "python3",
      "display_name": "Python 3"
    },
    "language_info": {
      "name": "python"
    }
  },
  "cells": [
    {
      "cell_type": "markdown",
      "metadata": {
        "id": "view-in-github",
        "colab_type": "text"
      },
      "source": [
        "<a href=\"https://colab.research.google.com/github/Dhokiez/Tugas1-Komputasi-Numerik/blob/main/eliminasi%20gauss.ipynb\" target=\"_parent\"><img src=\"https://colab.research.google.com/assets/colab-badge.svg\" alt=\"Open In Colab\"/></a>"
      ]
    },
    {
      "cell_type": "code",
      "source": [
        "# Mendefinisikan matriks Sistem Persamaan Linear (SPL)\n",
        "SPL = ([[2, 3, -1, 5], [4, 4, -3, 3], [-2, 3, -1, 1]])\n",
        "print(\"Sistem Persamaan Linear matriks adalah \",SPL)"
      ],
      "metadata": {
        "id": "c1ynpvZ6FWcA"
      },
      "execution_count": null,
      "outputs": []
    },
    {
      "cell_type": "code",
      "source": [
        "# # Melakukan operasi pengurangan untuk baris kedua dengan baris pertama\n",
        "for i in range(3):\n",
        "    SPL[1][i] = SPL[1][i] - (2 * SPL[0][i])\n",
        "\n",
        "# Menampilkan elemen-elemen baris kedua setelah operasi\n",
        "print(SPL[1][0])\n",
        "print(SPL[1][1])\n",
        "print(SPL[1][2])\n",
        "print(SPL[1][3])"
      ],
      "metadata": {
        "id": "gNBLwhhfFbLH"
      },
      "execution_count": null,
      "outputs": []
    },
    {
      "cell_type": "code",
      "source": [
        "# Matriks SPL didefinisikan ulang\n",
        "SPL = ([[2, 3, -1, 5], [4, 4, -3, 3], [-2, 3, -1, 1]])  # Matriks SPL yang sama\n",
        "print(\"Sistem Persamaan Linear matriks adalah \",SPL)\n",
        "\n",
        "# Mengurangi baris kedua dengan dua kali baris pertama\n",
        "for i in range(4):  # Menyesuaikan dengan panjang kolom\n",
        "    SPL[1][i] = SPL[1][i] - (2 * SPL[0][i])\n",
        "\n",
        "# Mengurangi baris ketiga dengan (-1) kali baris pertama\n",
        "for i in range(4):\n",
        "    SPL[2][i] = SPL[2][i] - (-1 * SPL[0][i])\n",
        "\n",
        "# Melakukan pengurangan baris ketiga dengan (-3) kali baris kedua\n",
        "for i in range(3):\n",
        "    SPL[2][i + 1] = SPL[2][i + 1] - (-3 * SPL[1][i + 1])\n",
        "\n",
        "# Menampilkan matriks setelah seluruh operasi\n",
        "SPL"
      ],
      "metadata": {
        "id": "S4Ms1uwwFfHw"
      },
      "execution_count": null,
      "outputs": []
    }
  ]
}